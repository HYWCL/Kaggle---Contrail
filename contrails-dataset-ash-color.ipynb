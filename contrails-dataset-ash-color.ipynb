{
 "cells": [
  {
   "cell_type": "markdown",
   "id": "a620f3ca",
   "metadata": {
    "papermill": {
     "duration": 0.006293,
     "end_time": "2023-07-31T10:47:51.389243",
     "exception": false,
     "start_time": "2023-07-31T10:47:51.382950",
     "status": "completed"
    },
    "tags": []
   },
   "source": [
    "## Ash Color Images Dataset Creation Notebook\n",
    "\n",
    "We will create a Ash Color Images dataset of the satellite images of this competition for our models using this notebook. Some main points:\n",
    "* Save only the labeled frame, which will be used for training.\n",
    "* Save only the human_pixel_masks.\n",
    "* Save the ash color image and the mask label in the same numpy file, so that we have to load only one file during training.\n",
    "* Save the final numpy arrays in float16 dtype to reduce total data size."
   ]
  },
  {
   "cell_type": "code",
   "execution_count": 1,
   "id": "b041f379",
   "metadata": {
    "_cell_guid": "b1076dfc-b9ad-4769-8c92-a6c4dae69d19",
    "_uuid": "8f2839f25d086af736a60e9eeb907d3b93b6e0e5",
    "execution": {
     "iopub.execute_input": "2023-07-31T10:47:51.402556Z",
     "iopub.status.busy": "2023-07-31T10:47:51.401355Z",
     "iopub.status.idle": "2023-07-31T10:47:51.516470Z",
     "shell.execute_reply": "2023-07-31T10:47:51.515313Z"
    },
    "papermill": {
     "duration": 0.1246,
     "end_time": "2023-07-31T10:47:51.519239",
     "exception": false,
     "start_time": "2023-07-31T10:47:51.394639",
     "status": "completed"
    },
    "tags": []
   },
   "outputs": [],
   "source": [
    "import numpy as np\n",
    "import pandas as pd\n",
    "import matplotlib.pyplot as plt\n",
    "\n",
    "import os\n",
    "from tqdm.notebook import tqdm\n",
    "from pathlib import Path"
   ]
  },
  {
   "cell_type": "code",
   "execution_count": 2,
   "id": "135eb802",
   "metadata": {
    "execution": {
     "iopub.execute_input": "2023-07-31T10:47:51.531755Z",
     "iopub.status.busy": "2023-07-31T10:47:51.531372Z",
     "iopub.status.idle": "2023-07-31T10:47:51.536298Z",
     "shell.execute_reply": "2023-07-31T10:47:51.535230Z"
    },
    "papermill": {
     "duration": 0.013816,
     "end_time": "2023-07-31T10:47:51.538577",
     "exception": false,
     "start_time": "2023-07-31T10:47:51.524761",
     "status": "completed"
    },
    "tags": []
   },
   "outputs": [],
   "source": [
    "data_dir = '/kaggle/input/google-research-identify-contrails-reduce-global-warming/'"
   ]
  },
  {
   "cell_type": "markdown",
   "id": "d3e5fe38",
   "metadata": {
    "papermill": {
     "duration": 0.004947,
     "end_time": "2023-07-31T10:47:51.548812",
     "exception": false,
     "start_time": "2023-07-31T10:47:51.543865",
     "status": "completed"
    },
    "tags": []
   },
   "source": [
    "## Make the DataFrames\n",
    "\n",
    "We will create train and valid dataframes, which will contain the record ids for each image."
   ]
  },
  {
   "cell_type": "code",
   "execution_count": 3,
   "id": "6dbe14a3",
   "metadata": {
    "execution": {
     "iopub.execute_input": "2023-07-31T10:47:51.560536Z",
     "iopub.status.busy": "2023-07-31T10:47:51.560161Z",
     "iopub.status.idle": "2023-07-31T10:47:52.057748Z",
     "shell.execute_reply": "2023-07-31T10:47:52.056592Z"
    },
    "papermill": {
     "duration": 0.506511,
     "end_time": "2023-07-31T10:47:52.060462",
     "exception": false,
     "start_time": "2023-07-31T10:47:51.553951",
     "status": "completed"
    },
    "tags": []
   },
   "outputs": [],
   "source": [
    "train_rs = os.listdir(data_dir + 'train')\n",
    "valid_rs = os.listdir(data_dir + 'validation')\n",
    "\n",
    "train_df = pd.DataFrame(train_rs, columns=['record_id'])\n",
    "valid_df = pd.DataFrame(valid_rs, columns=['record_id'])\n",
    "\n",
    "train_df['train'] = 'train'\n",
    "valid_df['train'] = 'valid'"
   ]
  },
  {
   "cell_type": "code",
   "execution_count": 4,
   "id": "101a91b9",
   "metadata": {
    "execution": {
     "iopub.execute_input": "2023-07-31T10:47:52.074117Z",
     "iopub.status.busy": "2023-07-31T10:47:52.073710Z",
     "iopub.status.idle": "2023-07-31T10:47:52.081448Z",
     "shell.execute_reply": "2023-07-31T10:47:52.080685Z"
    },
    "papermill": {
     "duration": 0.017639,
     "end_time": "2023-07-31T10:47:52.083494",
     "exception": false,
     "start_time": "2023-07-31T10:47:52.065855",
     "status": "completed"
    },
    "tags": []
   },
   "outputs": [
    {
     "data": {
      "text/plain": [
       "((20529, 2), (1856, 2))"
      ]
     },
     "execution_count": 4,
     "metadata": {},
     "output_type": "execute_result"
    }
   ],
   "source": [
    "train_df.shape, valid_df.shape"
   ]
  },
  {
   "cell_type": "code",
   "execution_count": 5,
   "id": "fde93fc0",
   "metadata": {
    "execution": {
     "iopub.execute_input": "2023-07-31T10:47:52.096080Z",
     "iopub.status.busy": "2023-07-31T10:47:52.095158Z",
     "iopub.status.idle": "2023-07-31T10:47:52.116687Z",
     "shell.execute_reply": "2023-07-31T10:47:52.115969Z"
    },
    "papermill": {
     "duration": 0.030258,
     "end_time": "2023-07-31T10:47:52.119077",
     "exception": false,
     "start_time": "2023-07-31T10:47:52.088819",
     "status": "completed"
    },
    "tags": []
   },
   "outputs": [
    {
     "data": {
      "text/html": [
       "<div>\n",
       "<style scoped>\n",
       "    .dataframe tbody tr th:only-of-type {\n",
       "        vertical-align: middle;\n",
       "    }\n",
       "\n",
       "    .dataframe tbody tr th {\n",
       "        vertical-align: top;\n",
       "    }\n",
       "\n",
       "    .dataframe thead th {\n",
       "        text-align: right;\n",
       "    }\n",
       "</style>\n",
       "<table border=\"1\" class=\"dataframe\">\n",
       "  <thead>\n",
       "    <tr style=\"text-align: right;\">\n",
       "      <th></th>\n",
       "      <th>record_id</th>\n",
       "      <th>train</th>\n",
       "    </tr>\n",
       "  </thead>\n",
       "  <tbody>\n",
       "    <tr>\n",
       "      <th>0</th>\n",
       "      <td>1284412112608546821</td>\n",
       "      <td>train</td>\n",
       "    </tr>\n",
       "    <tr>\n",
       "      <th>1</th>\n",
       "      <td>7457695218848685981</td>\n",
       "      <td>train</td>\n",
       "    </tr>\n",
       "    <tr>\n",
       "      <th>2</th>\n",
       "      <td>836236084461732921</td>\n",
       "      <td>train</td>\n",
       "    </tr>\n",
       "    <tr>\n",
       "      <th>3</th>\n",
       "      <td>7829917977180135058</td>\n",
       "      <td>train</td>\n",
       "    </tr>\n",
       "    <tr>\n",
       "      <th>4</th>\n",
       "      <td>5319255125658459358</td>\n",
       "      <td>train</td>\n",
       "    </tr>\n",
       "  </tbody>\n",
       "</table>\n",
       "</div>"
      ],
      "text/plain": [
       "             record_id  train\n",
       "0  1284412112608546821  train\n",
       "1  7457695218848685981  train\n",
       "2   836236084461732921  train\n",
       "3  7829917977180135058  train\n",
       "4  5319255125658459358  train"
      ]
     },
     "execution_count": 5,
     "metadata": {},
     "output_type": "execute_result"
    }
   ],
   "source": [
    "train_df.head()"
   ]
  },
  {
   "cell_type": "code",
   "execution_count": 6,
   "id": "0a31c099",
   "metadata": {
    "execution": {
     "iopub.execute_input": "2023-07-31T10:47:52.133550Z",
     "iopub.status.busy": "2023-07-31T10:47:52.132890Z",
     "iopub.status.idle": "2023-07-31T10:47:52.220346Z",
     "shell.execute_reply": "2023-07-31T10:47:52.219441Z"
    },
    "papermill": {
     "duration": 0.096806,
     "end_time": "2023-07-31T10:47:52.223012",
     "exception": false,
     "start_time": "2023-07-31T10:47:52.126206",
     "status": "completed"
    },
    "tags": []
   },
   "outputs": [],
   "source": [
    "train_df.to_csv('train_df.csv', index=False)\n",
    "valid_df.to_csv('valid_df.csv', index=False)"
   ]
  },
  {
   "cell_type": "markdown",
   "id": "90d457da",
   "metadata": {
    "papermill": {
     "duration": 0.005151,
     "end_time": "2023-07-31T10:47:52.233759",
     "exception": false,
     "start_time": "2023-07-31T10:47:52.228608",
     "status": "completed"
    },
    "tags": []
   },
   "source": [
    "## Save the Images as Numpy arrays"
   ]
  },
  {
   "cell_type": "code",
   "execution_count": 7,
   "id": "364444f0",
   "metadata": {
    "execution": {
     "iopub.execute_input": "2023-07-31T10:47:52.246290Z",
     "iopub.status.busy": "2023-07-31T10:47:52.245912Z",
     "iopub.status.idle": "2023-07-31T10:47:52.251764Z",
     "shell.execute_reply": "2023-07-31T10:47:52.250769Z"
    },
    "papermill": {
     "duration": 0.01493,
     "end_time": "2023-07-31T10:47:52.254174",
     "exception": false,
     "start_time": "2023-07-31T10:47:52.239244",
     "status": "completed"
    },
    "tags": []
   },
   "outputs": [],
   "source": [
    "def read_record(record_id, directory):\n",
    "    record_data = {}\n",
    "    for x in [\n",
    "        \"band_11\", \n",
    "        \"band_14\", \n",
    "        \"band_15\",\n",
    "    ]:\n",
    "        record_data[x] = np.load(os.path.join(directory, record_id, x + \".npy\"))\n",
    "    \n",
    "    return record_data"
   ]
  },
  {
   "cell_type": "code",
   "execution_count": 8,
   "id": "ceb82bfd",
   "metadata": {
    "execution": {
     "iopub.execute_input": "2023-07-31T10:47:52.267375Z",
     "iopub.status.busy": "2023-07-31T10:47:52.266610Z",
     "iopub.status.idle": "2023-07-31T10:47:52.272990Z",
     "shell.execute_reply": "2023-07-31T10:47:52.272223Z"
    },
    "papermill": {
     "duration": 0.015475,
     "end_time": "2023-07-31T10:47:52.275203",
     "exception": false,
     "start_time": "2023-07-31T10:47:52.259728",
     "status": "completed"
    },
    "tags": []
   },
   "outputs": [],
   "source": [
    "_T11_BOUNDS = (243, 303)\n",
    "_CLOUD_TOP_TDIFF_BOUNDS = (-4, 5)\n",
    "_TDIFF_BOUNDS = (-4, 2)\n",
    "\n",
    "def normalize_range(data, bounds):\n",
    "    \"\"\"Maps data to the range [0, 1].\"\"\"\n",
    "    return (data - bounds[0]) / (bounds[1] - bounds[0])\n",
    "\n",
    "N_TIMES_BEFORE = 5"
   ]
  },
  {
   "cell_type": "code",
   "execution_count": 9,
   "id": "65c94870",
   "metadata": {
    "execution": {
     "iopub.execute_input": "2023-07-31T10:47:52.287777Z",
     "iopub.status.busy": "2023-07-31T10:47:52.287397Z",
     "iopub.status.idle": "2023-07-31T10:47:52.294885Z",
     "shell.execute_reply": "2023-07-31T10:47:52.293880Z"
    },
    "papermill": {
     "duration": 0.016436,
     "end_time": "2023-07-31T10:47:52.297077",
     "exception": false,
     "start_time": "2023-07-31T10:47:52.280641",
     "status": "completed"
    },
    "tags": []
   },
   "outputs": [],
   "source": [
    "def get_false_color(record_data):\n",
    "    _T11_BOUNDS = (243, 303)\n",
    "    _CLOUD_TOP_TDIFF_BOUNDS = (-4, 5)\n",
    "    _TDIFF_BOUNDS = (-4, 2)\n",
    "\n",
    "    r = normalize_range(record_data[\"band_15\"] - record_data[\"band_14\"], _TDIFF_BOUNDS)\n",
    "    g = normalize_range(record_data[\"band_14\"] - record_data[\"band_11\"], _CLOUD_TOP_TDIFF_BOUNDS)\n",
    "    b = normalize_range(record_data[\"band_14\"], _T11_BOUNDS)\n",
    "    false_color = np.clip(np.stack([r, g, b], axis=2), 0, 1)\n",
    "    img = false_color[..., N_TIMES_BEFORE]\n",
    "    \n",
    "    return img"
   ]
  },
  {
   "cell_type": "code",
   "execution_count": 10,
   "id": "727d5033",
   "metadata": {
    "execution": {
     "iopub.execute_input": "2023-07-31T10:47:52.310000Z",
     "iopub.status.busy": "2023-07-31T10:47:52.309620Z",
     "iopub.status.idle": "2023-07-31T10:47:52.314426Z",
     "shell.execute_reply": "2023-07-31T10:47:52.313459Z"
    },
    "papermill": {
     "duration": 0.013752,
     "end_time": "2023-07-31T10:47:52.316487",
     "exception": false,
     "start_time": "2023-07-31T10:47:52.302735",
     "status": "completed"
    },
    "tags": []
   },
   "outputs": [],
   "source": [
    "path = Path('contrails')\n",
    "path.mkdir(exist_ok=True, parents=True)"
   ]
  },
  {
   "cell_type": "code",
   "execution_count": 11,
   "id": "d8c1ed03",
   "metadata": {
    "execution": {
     "iopub.execute_input": "2023-07-31T10:47:52.329757Z",
     "iopub.status.busy": "2023-07-31T10:47:52.328710Z",
     "iopub.status.idle": "2023-07-31T11:18:44.389817Z",
     "shell.execute_reply": "2023-07-31T11:18:44.384046Z"
    },
    "papermill": {
     "duration": 1852.081769,
     "end_time": "2023-07-31T11:18:44.403857",
     "exception": false,
     "start_time": "2023-07-31T10:47:52.322088",
     "status": "completed"
    },
    "tags": []
   },
   "outputs": [
    {
     "data": {
      "application/vnd.jupyter.widget-view+json": {
       "model_id": "d83cd855b7e34cb0a5e70a574d37dd38",
       "version_major": 2,
       "version_minor": 0
      },
      "text/plain": [
       "  0%|          | 0/20529 [00:00<?, ?it/s]"
      ]
     },
     "metadata": {},
     "output_type": "display_data"
    }
   ],
   "source": [
    "#Train\n",
    "for i in tqdm(train_rs):\n",
    "    data = read_record(str(i), data_dir+'train')\n",
    "    img = get_false_color(data)\n",
    "    img = img.astype(np.float16)\n",
    "#     final = np.dstack([img, data['human_pixel_masks']])\n",
    "#     final = final.astype(np.float16)\n",
    "    \n",
    "    pathc = path/f\"{i}.npy\"\n",
    "    np.save(str(pathc), img)"
   ]
  },
  {
   "cell_type": "code",
   "execution_count": 12,
   "id": "20473797",
   "metadata": {
    "execution": {
     "iopub.execute_input": "2023-07-31T11:18:44.425855Z",
     "iopub.status.busy": "2023-07-31T11:18:44.424187Z",
     "iopub.status.idle": "2023-07-31T11:21:33.122182Z",
     "shell.execute_reply": "2023-07-31T11:21:33.120939Z"
    },
    "papermill": {
     "duration": 168.712325,
     "end_time": "2023-07-31T11:21:33.124568",
     "exception": false,
     "start_time": "2023-07-31T11:18:44.412243",
     "status": "completed"
    },
    "tags": []
   },
   "outputs": [
    {
     "data": {
      "application/vnd.jupyter.widget-view+json": {
       "model_id": "ad711bea60234b4989cadfba9b4b339e",
       "version_major": 2,
       "version_minor": 0
      },
      "text/plain": [
       "  0%|          | 0/1856 [00:00<?, ?it/s]"
      ]
     },
     "metadata": {},
     "output_type": "display_data"
    }
   ],
   "source": [
    "#Valid\n",
    "for i in tqdm(valid_rs):\n",
    "    data = read_record(str(i), data_dir+'validation')\n",
    "    img = get_false_color(data)\n",
    "    img = img.astype(np.float16)\n",
    "#     final = np.dstack([img, data['human_pixel_masks']])\n",
    "#     final = final.astype(np.float16)\n",
    "    \n",
    "    pathc = path/f\"{i}.npy\"\n",
    "    np.save(str(pathc), img)"
   ]
  }
 ],
 "metadata": {
  "kernelspec": {
   "display_name": "Python 3",
   "language": "python",
   "name": "python3"
  },
  "language_info": {
   "codemirror_mode": {
    "name": "ipython",
    "version": 3
   },
   "file_extension": ".py",
   "mimetype": "text/x-python",
   "name": "python",
   "nbconvert_exporter": "python",
   "pygments_lexer": "ipython3",
   "version": "3.10.10"
  },
  "papermill": {
   "default_parameters": {},
   "duration": 2036.260043,
   "end_time": "2023-07-31T11:21:34.785680",
   "environment_variables": {},
   "exception": null,
   "input_path": "__notebook__.ipynb",
   "output_path": "__notebook__.ipynb",
   "parameters": {},
   "start_time": "2023-07-31T10:47:38.525637",
   "version": "2.4.0"
  },
  "widgets": {
   "application/vnd.jupyter.widget-state+json": {
    "state": {
     "0b70cda7bc4b4b0a8a767de0c0ec060d": {
      "model_module": "@jupyter-widgets/controls",
      "model_module_version": "1.5.0",
      "model_name": "DescriptionStyleModel",
      "state": {
       "_model_module": "@jupyter-widgets/controls",
       "_model_module_version": "1.5.0",
       "_model_name": "DescriptionStyleModel",
       "_view_count": null,
       "_view_module": "@jupyter-widgets/base",
       "_view_module_version": "1.2.0",
       "_view_name": "StyleView",
       "description_width": ""
      }
     },
     "18756265ae18420b8006a57adcbe66de": {
      "model_module": "@jupyter-widgets/controls",
      "model_module_version": "1.5.0",
      "model_name": "ProgressStyleModel",
      "state": {
       "_model_module": "@jupyter-widgets/controls",
       "_model_module_version": "1.5.0",
       "_model_name": "ProgressStyleModel",
       "_view_count": null,
       "_view_module": "@jupyter-widgets/base",
       "_view_module_version": "1.2.0",
       "_view_name": "StyleView",
       "bar_color": null,
       "description_width": ""
      }
     },
     "18e5a8902f8542debc34d8bf2aa5b482": {
      "model_module": "@jupyter-widgets/base",
      "model_module_version": "1.2.0",
      "model_name": "LayoutModel",
      "state": {
       "_model_module": "@jupyter-widgets/base",
       "_model_module_version": "1.2.0",
       "_model_name": "LayoutModel",
       "_view_count": null,
       "_view_module": "@jupyter-widgets/base",
       "_view_module_version": "1.2.0",
       "_view_name": "LayoutView",
       "align_content": null,
       "align_items": null,
       "align_self": null,
       "border": null,
       "bottom": null,
       "display": null,
       "flex": null,
       "flex_flow": null,
       "grid_area": null,
       "grid_auto_columns": null,
       "grid_auto_flow": null,
       "grid_auto_rows": null,
       "grid_column": null,
       "grid_gap": null,
       "grid_row": null,
       "grid_template_areas": null,
       "grid_template_columns": null,
       "grid_template_rows": null,
       "height": null,
       "justify_content": null,
       "justify_items": null,
       "left": null,
       "margin": null,
       "max_height": null,
       "max_width": null,
       "min_height": null,
       "min_width": null,
       "object_fit": null,
       "object_position": null,
       "order": null,
       "overflow": null,
       "overflow_x": null,
       "overflow_y": null,
       "padding": null,
       "right": null,
       "top": null,
       "visibility": null,
       "width": null
      }
     },
     "2c6c4901baba4a7fa7d27c1d4a0fe821": {
      "model_module": "@jupyter-widgets/base",
      "model_module_version": "1.2.0",
      "model_name": "LayoutModel",
      "state": {
       "_model_module": "@jupyter-widgets/base",
       "_model_module_version": "1.2.0",
       "_model_name": "LayoutModel",
       "_view_count": null,
       "_view_module": "@jupyter-widgets/base",
       "_view_module_version": "1.2.0",
       "_view_name": "LayoutView",
       "align_content": null,
       "align_items": null,
       "align_self": null,
       "border": null,
       "bottom": null,
       "display": null,
       "flex": null,
       "flex_flow": null,
       "grid_area": null,
       "grid_auto_columns": null,
       "grid_auto_flow": null,
       "grid_auto_rows": null,
       "grid_column": null,
       "grid_gap": null,
       "grid_row": null,
       "grid_template_areas": null,
       "grid_template_columns": null,
       "grid_template_rows": null,
       "height": null,
       "justify_content": null,
       "justify_items": null,
       "left": null,
       "margin": null,
       "max_height": null,
       "max_width": null,
       "min_height": null,
       "min_width": null,
       "object_fit": null,
       "object_position": null,
       "order": null,
       "overflow": null,
       "overflow_x": null,
       "overflow_y": null,
       "padding": null,
       "right": null,
       "top": null,
       "visibility": null,
       "width": null
      }
     },
     "38dcd584d7f24f5aabc072fbbcfad99a": {
      "model_module": "@jupyter-widgets/controls",
      "model_module_version": "1.5.0",
      "model_name": "FloatProgressModel",
      "state": {
       "_dom_classes": [],
       "_model_module": "@jupyter-widgets/controls",
       "_model_module_version": "1.5.0",
       "_model_name": "FloatProgressModel",
       "_view_count": null,
       "_view_module": "@jupyter-widgets/controls",
       "_view_module_version": "1.5.0",
       "_view_name": "ProgressView",
       "bar_style": "success",
       "description": "",
       "description_tooltip": null,
       "layout": "IPY_MODEL_451ca36712a84d7aada1247a1adc34ba",
       "max": 1856.0,
       "min": 0.0,
       "orientation": "horizontal",
       "style": "IPY_MODEL_e5bd2463fcbf47ce9dfac721a2daa6c0",
       "value": 1856.0
      }
     },
     "451ca36712a84d7aada1247a1adc34ba": {
      "model_module": "@jupyter-widgets/base",
      "model_module_version": "1.2.0",
      "model_name": "LayoutModel",
      "state": {
       "_model_module": "@jupyter-widgets/base",
       "_model_module_version": "1.2.0",
       "_model_name": "LayoutModel",
       "_view_count": null,
       "_view_module": "@jupyter-widgets/base",
       "_view_module_version": "1.2.0",
       "_view_name": "LayoutView",
       "align_content": null,
       "align_items": null,
       "align_self": null,
       "border": null,
       "bottom": null,
       "display": null,
       "flex": null,
       "flex_flow": null,
       "grid_area": null,
       "grid_auto_columns": null,
       "grid_auto_flow": null,
       "grid_auto_rows": null,
       "grid_column": null,
       "grid_gap": null,
       "grid_row": null,
       "grid_template_areas": null,
       "grid_template_columns": null,
       "grid_template_rows": null,
       "height": null,
       "justify_content": null,
       "justify_items": null,
       "left": null,
       "margin": null,
       "max_height": null,
       "max_width": null,
       "min_height": null,
       "min_width": null,
       "object_fit": null,
       "object_position": null,
       "order": null,
       "overflow": null,
       "overflow_x": null,
       "overflow_y": null,
       "padding": null,
       "right": null,
       "top": null,
       "visibility": null,
       "width": null
      }
     },
     "538ee1e6c1a94b71b8366d18041c59d5": {
      "model_module": "@jupyter-widgets/controls",
      "model_module_version": "1.5.0",
      "model_name": "DescriptionStyleModel",
      "state": {
       "_model_module": "@jupyter-widgets/controls",
       "_model_module_version": "1.5.0",
       "_model_name": "DescriptionStyleModel",
       "_view_count": null,
       "_view_module": "@jupyter-widgets/base",
       "_view_module_version": "1.2.0",
       "_view_name": "StyleView",
       "description_width": ""
      }
     },
     "75ed427517f6434794a061b874ae9fcb": {
      "model_module": "@jupyter-widgets/controls",
      "model_module_version": "1.5.0",
      "model_name": "HTMLModel",
      "state": {
       "_dom_classes": [],
       "_model_module": "@jupyter-widgets/controls",
       "_model_module_version": "1.5.0",
       "_model_name": "HTMLModel",
       "_view_count": null,
       "_view_module": "@jupyter-widgets/controls",
       "_view_module_version": "1.5.0",
       "_view_name": "HTMLView",
       "description": "",
       "description_tooltip": null,
       "layout": "IPY_MODEL_c6f10e3bddd44fccaf88273771dc5b66",
       "placeholder": "​",
       "style": "IPY_MODEL_0b70cda7bc4b4b0a8a767de0c0ec060d",
       "value": "100%"
      }
     },
     "7de37a880bbe4132826cd31fc0932f3f": {
      "model_module": "@jupyter-widgets/base",
      "model_module_version": "1.2.0",
      "model_name": "LayoutModel",
      "state": {
       "_model_module": "@jupyter-widgets/base",
       "_model_module_version": "1.2.0",
       "_model_name": "LayoutModel",
       "_view_count": null,
       "_view_module": "@jupyter-widgets/base",
       "_view_module_version": "1.2.0",
       "_view_name": "LayoutView",
       "align_content": null,
       "align_items": null,
       "align_self": null,
       "border": null,
       "bottom": null,
       "display": null,
       "flex": null,
       "flex_flow": null,
       "grid_area": null,
       "grid_auto_columns": null,
       "grid_auto_flow": null,
       "grid_auto_rows": null,
       "grid_column": null,
       "grid_gap": null,
       "grid_row": null,
       "grid_template_areas": null,
       "grid_template_columns": null,
       "grid_template_rows": null,
       "height": null,
       "justify_content": null,
       "justify_items": null,
       "left": null,
       "margin": null,
       "max_height": null,
       "max_width": null,
       "min_height": null,
       "min_width": null,
       "object_fit": null,
       "object_position": null,
       "order": null,
       "overflow": null,
       "overflow_x": null,
       "overflow_y": null,
       "padding": null,
       "right": null,
       "top": null,
       "visibility": null,
       "width": null
      }
     },
     "8953fdcdd9e749c28266ee2a0136bf75": {
      "model_module": "@jupyter-widgets/controls",
      "model_module_version": "1.5.0",
      "model_name": "FloatProgressModel",
      "state": {
       "_dom_classes": [],
       "_model_module": "@jupyter-widgets/controls",
       "_model_module_version": "1.5.0",
       "_model_name": "FloatProgressModel",
       "_view_count": null,
       "_view_module": "@jupyter-widgets/controls",
       "_view_module_version": "1.5.0",
       "_view_name": "ProgressView",
       "bar_style": "success",
       "description": "",
       "description_tooltip": null,
       "layout": "IPY_MODEL_2c6c4901baba4a7fa7d27c1d4a0fe821",
       "max": 20529.0,
       "min": 0.0,
       "orientation": "horizontal",
       "style": "IPY_MODEL_18756265ae18420b8006a57adcbe66de",
       "value": 20529.0
      }
     },
     "8dc87c646f6440da9c260c1463d481b9": {
      "model_module": "@jupyter-widgets/base",
      "model_module_version": "1.2.0",
      "model_name": "LayoutModel",
      "state": {
       "_model_module": "@jupyter-widgets/base",
       "_model_module_version": "1.2.0",
       "_model_name": "LayoutModel",
       "_view_count": null,
       "_view_module": "@jupyter-widgets/base",
       "_view_module_version": "1.2.0",
       "_view_name": "LayoutView",
       "align_content": null,
       "align_items": null,
       "align_self": null,
       "border": null,
       "bottom": null,
       "display": null,
       "flex": null,
       "flex_flow": null,
       "grid_area": null,
       "grid_auto_columns": null,
       "grid_auto_flow": null,
       "grid_auto_rows": null,
       "grid_column": null,
       "grid_gap": null,
       "grid_row": null,
       "grid_template_areas": null,
       "grid_template_columns": null,
       "grid_template_rows": null,
       "height": null,
       "justify_content": null,
       "justify_items": null,
       "left": null,
       "margin": null,
       "max_height": null,
       "max_width": null,
       "min_height": null,
       "min_width": null,
       "object_fit": null,
       "object_position": null,
       "order": null,
       "overflow": null,
       "overflow_x": null,
       "overflow_y": null,
       "padding": null,
       "right": null,
       "top": null,
       "visibility": null,
       "width": null
      }
     },
     "99a6c536f11d496081c6ac63d338b133": {
      "model_module": "@jupyter-widgets/controls",
      "model_module_version": "1.5.0",
      "model_name": "DescriptionStyleModel",
      "state": {
       "_model_module": "@jupyter-widgets/controls",
       "_model_module_version": "1.5.0",
       "_model_name": "DescriptionStyleModel",
       "_view_count": null,
       "_view_module": "@jupyter-widgets/base",
       "_view_module_version": "1.2.0",
       "_view_name": "StyleView",
       "description_width": ""
      }
     },
     "a2e180c46a4f4deeb305a367c0ff1800": {
      "model_module": "@jupyter-widgets/controls",
      "model_module_version": "1.5.0",
      "model_name": "HTMLModel",
      "state": {
       "_dom_classes": [],
       "_model_module": "@jupyter-widgets/controls",
       "_model_module_version": "1.5.0",
       "_model_name": "HTMLModel",
       "_view_count": null,
       "_view_module": "@jupyter-widgets/controls",
       "_view_module_version": "1.5.0",
       "_view_name": "HTMLView",
       "description": "",
       "description_tooltip": null,
       "layout": "IPY_MODEL_c33c130704124a528695e0efc2fc4ba7",
       "placeholder": "​",
       "style": "IPY_MODEL_538ee1e6c1a94b71b8366d18041c59d5",
       "value": "100%"
      }
     },
     "ad711bea60234b4989cadfba9b4b339e": {
      "model_module": "@jupyter-widgets/controls",
      "model_module_version": "1.5.0",
      "model_name": "HBoxModel",
      "state": {
       "_dom_classes": [],
       "_model_module": "@jupyter-widgets/controls",
       "_model_module_version": "1.5.0",
       "_model_name": "HBoxModel",
       "_view_count": null,
       "_view_module": "@jupyter-widgets/controls",
       "_view_module_version": "1.5.0",
       "_view_name": "HBoxView",
       "box_style": "",
       "children": [
        "IPY_MODEL_75ed427517f6434794a061b874ae9fcb",
        "IPY_MODEL_38dcd584d7f24f5aabc072fbbcfad99a",
        "IPY_MODEL_d0e42d337b074a2f8d6cb52ab659219b"
       ],
       "layout": "IPY_MODEL_7de37a880bbe4132826cd31fc0932f3f"
      }
     },
     "b1494ecd88834002936a898444353d9d": {
      "model_module": "@jupyter-widgets/controls",
      "model_module_version": "1.5.0",
      "model_name": "HTMLModel",
      "state": {
       "_dom_classes": [],
       "_model_module": "@jupyter-widgets/controls",
       "_model_module_version": "1.5.0",
       "_model_name": "HTMLModel",
       "_view_count": null,
       "_view_module": "@jupyter-widgets/controls",
       "_view_module_version": "1.5.0",
       "_view_name": "HTMLView",
       "description": "",
       "description_tooltip": null,
       "layout": "IPY_MODEL_18e5a8902f8542debc34d8bf2aa5b482",
       "placeholder": "​",
       "style": "IPY_MODEL_eaf8914d16d14939935000d6fd87d337",
       "value": " 20529/20529 [30:52&lt;00:00, 10.74it/s]"
      }
     },
     "c33c130704124a528695e0efc2fc4ba7": {
      "model_module": "@jupyter-widgets/base",
      "model_module_version": "1.2.0",
      "model_name": "LayoutModel",
      "state": {
       "_model_module": "@jupyter-widgets/base",
       "_model_module_version": "1.2.0",
       "_model_name": "LayoutModel",
       "_view_count": null,
       "_view_module": "@jupyter-widgets/base",
       "_view_module_version": "1.2.0",
       "_view_name": "LayoutView",
       "align_content": null,
       "align_items": null,
       "align_self": null,
       "border": null,
       "bottom": null,
       "display": null,
       "flex": null,
       "flex_flow": null,
       "grid_area": null,
       "grid_auto_columns": null,
       "grid_auto_flow": null,
       "grid_auto_rows": null,
       "grid_column": null,
       "grid_gap": null,
       "grid_row": null,
       "grid_template_areas": null,
       "grid_template_columns": null,
       "grid_template_rows": null,
       "height": null,
       "justify_content": null,
       "justify_items": null,
       "left": null,
       "margin": null,
       "max_height": null,
       "max_width": null,
       "min_height": null,
       "min_width": null,
       "object_fit": null,
       "object_position": null,
       "order": null,
       "overflow": null,
       "overflow_x": null,
       "overflow_y": null,
       "padding": null,
       "right": null,
       "top": null,
       "visibility": null,
       "width": null
      }
     },
     "c6f10e3bddd44fccaf88273771dc5b66": {
      "model_module": "@jupyter-widgets/base",
      "model_module_version": "1.2.0",
      "model_name": "LayoutModel",
      "state": {
       "_model_module": "@jupyter-widgets/base",
       "_model_module_version": "1.2.0",
       "_model_name": "LayoutModel",
       "_view_count": null,
       "_view_module": "@jupyter-widgets/base",
       "_view_module_version": "1.2.0",
       "_view_name": "LayoutView",
       "align_content": null,
       "align_items": null,
       "align_self": null,
       "border": null,
       "bottom": null,
       "display": null,
       "flex": null,
       "flex_flow": null,
       "grid_area": null,
       "grid_auto_columns": null,
       "grid_auto_flow": null,
       "grid_auto_rows": null,
       "grid_column": null,
       "grid_gap": null,
       "grid_row": null,
       "grid_template_areas": null,
       "grid_template_columns": null,
       "grid_template_rows": null,
       "height": null,
       "justify_content": null,
       "justify_items": null,
       "left": null,
       "margin": null,
       "max_height": null,
       "max_width": null,
       "min_height": null,
       "min_width": null,
       "object_fit": null,
       "object_position": null,
       "order": null,
       "overflow": null,
       "overflow_x": null,
       "overflow_y": null,
       "padding": null,
       "right": null,
       "top": null,
       "visibility": null,
       "width": null
      }
     },
     "d0e42d337b074a2f8d6cb52ab659219b": {
      "model_module": "@jupyter-widgets/controls",
      "model_module_version": "1.5.0",
      "model_name": "HTMLModel",
      "state": {
       "_dom_classes": [],
       "_model_module": "@jupyter-widgets/controls",
       "_model_module_version": "1.5.0",
       "_model_name": "HTMLModel",
       "_view_count": null,
       "_view_module": "@jupyter-widgets/controls",
       "_view_module_version": "1.5.0",
       "_view_name": "HTMLView",
       "description": "",
       "description_tooltip": null,
       "layout": "IPY_MODEL_8dc87c646f6440da9c260c1463d481b9",
       "placeholder": "​",
       "style": "IPY_MODEL_99a6c536f11d496081c6ac63d338b133",
       "value": " 1856/1856 [02:48&lt;00:00, 11.82it/s]"
      }
     },
     "d83cd855b7e34cb0a5e70a574d37dd38": {
      "model_module": "@jupyter-widgets/controls",
      "model_module_version": "1.5.0",
      "model_name": "HBoxModel",
      "state": {
       "_dom_classes": [],
       "_model_module": "@jupyter-widgets/controls",
       "_model_module_version": "1.5.0",
       "_model_name": "HBoxModel",
       "_view_count": null,
       "_view_module": "@jupyter-widgets/controls",
       "_view_module_version": "1.5.0",
       "_view_name": "HBoxView",
       "box_style": "",
       "children": [
        "IPY_MODEL_a2e180c46a4f4deeb305a367c0ff1800",
        "IPY_MODEL_8953fdcdd9e749c28266ee2a0136bf75",
        "IPY_MODEL_b1494ecd88834002936a898444353d9d"
       ],
       "layout": "IPY_MODEL_fb297d35bcaf42c2b2f8d461e16bb009"
      }
     },
     "e5bd2463fcbf47ce9dfac721a2daa6c0": {
      "model_module": "@jupyter-widgets/controls",
      "model_module_version": "1.5.0",
      "model_name": "ProgressStyleModel",
      "state": {
       "_model_module": "@jupyter-widgets/controls",
       "_model_module_version": "1.5.0",
       "_model_name": "ProgressStyleModel",
       "_view_count": null,
       "_view_module": "@jupyter-widgets/base",
       "_view_module_version": "1.2.0",
       "_view_name": "StyleView",
       "bar_color": null,
       "description_width": ""
      }
     },
     "eaf8914d16d14939935000d6fd87d337": {
      "model_module": "@jupyter-widgets/controls",
      "model_module_version": "1.5.0",
      "model_name": "DescriptionStyleModel",
      "state": {
       "_model_module": "@jupyter-widgets/controls",
       "_model_module_version": "1.5.0",
       "_model_name": "DescriptionStyleModel",
       "_view_count": null,
       "_view_module": "@jupyter-widgets/base",
       "_view_module_version": "1.2.0",
       "_view_name": "StyleView",
       "description_width": ""
      }
     },
     "fb297d35bcaf42c2b2f8d461e16bb009": {
      "model_module": "@jupyter-widgets/base",
      "model_module_version": "1.2.0",
      "model_name": "LayoutModel",
      "state": {
       "_model_module": "@jupyter-widgets/base",
       "_model_module_version": "1.2.0",
       "_model_name": "LayoutModel",
       "_view_count": null,
       "_view_module": "@jupyter-widgets/base",
       "_view_module_version": "1.2.0",
       "_view_name": "LayoutView",
       "align_content": null,
       "align_items": null,
       "align_self": null,
       "border": null,
       "bottom": null,
       "display": null,
       "flex": null,
       "flex_flow": null,
       "grid_area": null,
       "grid_auto_columns": null,
       "grid_auto_flow": null,
       "grid_auto_rows": null,
       "grid_column": null,
       "grid_gap": null,
       "grid_row": null,
       "grid_template_areas": null,
       "grid_template_columns": null,
       "grid_template_rows": null,
       "height": null,
       "justify_content": null,
       "justify_items": null,
       "left": null,
       "margin": null,
       "max_height": null,
       "max_width": null,
       "min_height": null,
       "min_width": null,
       "object_fit": null,
       "object_position": null,
       "order": null,
       "overflow": null,
       "overflow_x": null,
       "overflow_y": null,
       "padding": null,
       "right": null,
       "top": null,
       "visibility": null,
       "width": null
      }
     }
    },
    "version_major": 2,
    "version_minor": 0
   }
  }
 },
 "nbformat": 4,
 "nbformat_minor": 5
}
