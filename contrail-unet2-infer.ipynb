{
 "cells": [
  {
   "cell_type": "code",
   "execution_count": 1,
   "id": "8d712a29",
   "metadata": {
    "_cell_guid": "b1076dfc-b9ad-4769-8c92-a6c4dae69d19",
    "_uuid": "8f2839f25d086af736a60e9eeb907d3b93b6e0e5",
    "execution": {
     "iopub.execute_input": "2023-06-16T03:18:21.515549Z",
     "iopub.status.busy": "2023-06-16T03:18:21.515088Z",
     "iopub.status.idle": "2023-06-16T03:20:38.179172Z",
     "shell.execute_reply": "2023-06-16T03:20:38.178103Z"
    },
    "papermill": {
     "duration": 136.674336,
     "end_time": "2023-06-16T03:20:38.181955",
     "exception": false,
     "start_time": "2023-06-16T03:18:21.507619",
     "status": "completed"
    },
    "tags": []
   },
   "outputs": [
    {
     "name": "stdout",
     "output_type": "stream",
     "text": [
      "Processing /kaggle/input/segmentation-whl/timm-0.6.12-py3-none-any.whl\r\n",
      "Requirement already satisfied: torch>=1.7 in /opt/conda/lib/python3.10/site-packages (from timm==0.6.12) (2.0.0)\r\n",
      "Requirement already satisfied: torchvision in /opt/conda/lib/python3.10/site-packages (from timm==0.6.12) (0.15.1)\r\n",
      "Requirement already satisfied: pyyaml in /opt/conda/lib/python3.10/site-packages (from timm==0.6.12) (5.4.1)\r\n",
      "Requirement already satisfied: huggingface-hub in /opt/conda/lib/python3.10/site-packages (from timm==0.6.12) (0.14.1)\r\n",
      "Requirement already satisfied: filelock in /opt/conda/lib/python3.10/site-packages (from torch>=1.7->timm==0.6.12) (3.12.0)\r\n",
      "Requirement already satisfied: typing-extensions in /opt/conda/lib/python3.10/site-packages (from torch>=1.7->timm==0.6.12) (4.5.0)\r\n",
      "Requirement already satisfied: sympy in /opt/conda/lib/python3.10/site-packages (from torch>=1.7->timm==0.6.12) (1.12)\r\n",
      "Requirement already satisfied: networkx in /opt/conda/lib/python3.10/site-packages (from torch>=1.7->timm==0.6.12) (3.1)\r\n",
      "Requirement already satisfied: jinja2 in /opt/conda/lib/python3.10/site-packages (from torch>=1.7->timm==0.6.12) (3.1.2)\r\n",
      "Requirement already satisfied: fsspec in /opt/conda/lib/python3.10/site-packages (from huggingface-hub->timm==0.6.12) (2023.5.0)\r\n",
      "Requirement already satisfied: requests in /opt/conda/lib/python3.10/site-packages (from huggingface-hub->timm==0.6.12) (2.28.2)\r\n",
      "Requirement already satisfied: tqdm>=4.42.1 in /opt/conda/lib/python3.10/site-packages (from huggingface-hub->timm==0.6.12) (4.64.1)\r\n",
      "Requirement already satisfied: packaging>=20.9 in /opt/conda/lib/python3.10/site-packages (from huggingface-hub->timm==0.6.12) (21.3)\r\n",
      "Requirement already satisfied: numpy in /opt/conda/lib/python3.10/site-packages (from torchvision->timm==0.6.12) (1.23.5)\r\n",
      "Requirement already satisfied: pillow!=8.3.*,>=5.3.0 in /opt/conda/lib/python3.10/site-packages (from torchvision->timm==0.6.12) (9.5.0)\r\n",
      "Requirement already satisfied: pyparsing!=3.0.5,>=2.0.2 in /opt/conda/lib/python3.10/site-packages (from packaging>=20.9->huggingface-hub->timm==0.6.12) (3.0.9)\r\n",
      "Requirement already satisfied: MarkupSafe>=2.0 in /opt/conda/lib/python3.10/site-packages (from jinja2->torch>=1.7->timm==0.6.12) (2.1.2)\r\n",
      "Requirement already satisfied: charset-normalizer<4,>=2 in /opt/conda/lib/python3.10/site-packages (from requests->huggingface-hub->timm==0.6.12) (2.1.1)\r\n",
      "Requirement already satisfied: idna<4,>=2.5 in /opt/conda/lib/python3.10/site-packages (from requests->huggingface-hub->timm==0.6.12) (3.4)\r\n",
      "Requirement already satisfied: urllib3<1.27,>=1.21.1 in /opt/conda/lib/python3.10/site-packages (from requests->huggingface-hub->timm==0.6.12) (1.26.15)\r\n",
      "Requirement already satisfied: certifi>=2017.4.17 in /opt/conda/lib/python3.10/site-packages (from requests->huggingface-hub->timm==0.6.12) (2023.5.7)\r\n",
      "Requirement already satisfied: mpmath>=0.19 in /opt/conda/lib/python3.10/site-packages (from sympy->torch>=1.7->timm==0.6.12) (1.3.0)\r\n",
      "Installing collected packages: timm\r\n",
      "  Attempting uninstall: timm\r\n",
      "    Found existing installation: timm 0.9.2\r\n",
      "    Uninstalling timm-0.9.2:\r\n",
      "      Successfully uninstalled timm-0.9.2\r\n",
      "Successfully installed timm-0.6.12\r\n",
      "\u001b[33mWARNING: Running pip as the 'root' user can result in broken permissions and conflicting behaviour with the system package manager. It is recommended to use a virtual environment instead: https://pip.pypa.io/warnings/venv\u001b[0m\u001b[33m\r\n",
      "\u001b[0mProcessing /kaggle/input/segmentation-whl/efficientnet_pytorch-0.7.1-py3-none-any.whl\r\n",
      "Requirement already satisfied: torch in /opt/conda/lib/python3.10/site-packages (from efficientnet-pytorch==0.7.1) (2.0.0)\r\n",
      "Requirement already satisfied: filelock in /opt/conda/lib/python3.10/site-packages (from torch->efficientnet-pytorch==0.7.1) (3.12.0)\r\n",
      "Requirement already satisfied: typing-extensions in /opt/conda/lib/python3.10/site-packages (from torch->efficientnet-pytorch==0.7.1) (4.5.0)\r\n",
      "Requirement already satisfied: sympy in /opt/conda/lib/python3.10/site-packages (from torch->efficientnet-pytorch==0.7.1) (1.12)\r\n",
      "Requirement already satisfied: networkx in /opt/conda/lib/python3.10/site-packages (from torch->efficientnet-pytorch==0.7.1) (3.1)\r\n",
      "Requirement already satisfied: jinja2 in /opt/conda/lib/python3.10/site-packages (from torch->efficientnet-pytorch==0.7.1) (3.1.2)\r\n",
      "Requirement already satisfied: MarkupSafe>=2.0 in /opt/conda/lib/python3.10/site-packages (from jinja2->torch->efficientnet-pytorch==0.7.1) (2.1.2)\r\n",
      "Requirement already satisfied: mpmath>=0.19 in /opt/conda/lib/python3.10/site-packages (from sympy->torch->efficientnet-pytorch==0.7.1) (1.3.0)\r\n",
      "Installing collected packages: efficientnet-pytorch\r\n",
      "Successfully installed efficientnet-pytorch-0.7.1\r\n",
      "\u001b[33mWARNING: Running pip as the 'root' user can result in broken permissions and conflicting behaviour with the system package manager. It is recommended to use a virtual environment instead: https://pip.pypa.io/warnings/venv\u001b[0m\u001b[33m\r\n",
      "\u001b[0mProcessing /kaggle/input/segmentation-whl/pretrainedmodels-0.7.4-py3-none-any.whl\r\n",
      "Requirement already satisfied: torch in /opt/conda/lib/python3.10/site-packages (from pretrainedmodels==0.7.4) (2.0.0)\r\n",
      "Requirement already satisfied: torchvision in /opt/conda/lib/python3.10/site-packages (from pretrainedmodels==0.7.4) (0.15.1)\r\n",
      "Requirement already satisfied: munch in /opt/conda/lib/python3.10/site-packages (from pretrainedmodels==0.7.4) (3.0.0)\r\n",
      "Requirement already satisfied: tqdm in /opt/conda/lib/python3.10/site-packages (from pretrainedmodels==0.7.4) (4.64.1)\r\n",
      "Requirement already satisfied: six in /opt/conda/lib/python3.10/site-packages (from munch->pretrainedmodels==0.7.4) (1.16.0)\r\n",
      "Requirement already satisfied: filelock in /opt/conda/lib/python3.10/site-packages (from torch->pretrainedmodels==0.7.4) (3.12.0)\r\n",
      "Requirement already satisfied: typing-extensions in /opt/conda/lib/python3.10/site-packages (from torch->pretrainedmodels==0.7.4) (4.5.0)\r\n",
      "Requirement already satisfied: sympy in /opt/conda/lib/python3.10/site-packages (from torch->pretrainedmodels==0.7.4) (1.12)\r\n",
      "Requirement already satisfied: networkx in /opt/conda/lib/python3.10/site-packages (from torch->pretrainedmodels==0.7.4) (3.1)\r\n",
      "Requirement already satisfied: jinja2 in /opt/conda/lib/python3.10/site-packages (from torch->pretrainedmodels==0.7.4) (3.1.2)\r\n",
      "Requirement already satisfied: numpy in /opt/conda/lib/python3.10/site-packages (from torchvision->pretrainedmodels==0.7.4) (1.23.5)\r\n",
      "Requirement already satisfied: requests in /opt/conda/lib/python3.10/site-packages (from torchvision->pretrainedmodels==0.7.4) (2.28.2)\r\n",
      "Requirement already satisfied: pillow!=8.3.*,>=5.3.0 in /opt/conda/lib/python3.10/site-packages (from torchvision->pretrainedmodels==0.7.4) (9.5.0)\r\n",
      "Requirement already satisfied: MarkupSafe>=2.0 in /opt/conda/lib/python3.10/site-packages (from jinja2->torch->pretrainedmodels==0.7.4) (2.1.2)\r\n",
      "Requirement already satisfied: charset-normalizer<4,>=2 in /opt/conda/lib/python3.10/site-packages (from requests->torchvision->pretrainedmodels==0.7.4) (2.1.1)\r\n",
      "Requirement already satisfied: idna<4,>=2.5 in /opt/conda/lib/python3.10/site-packages (from requests->torchvision->pretrainedmodels==0.7.4) (3.4)\r\n",
      "Requirement already satisfied: urllib3<1.27,>=1.21.1 in /opt/conda/lib/python3.10/site-packages (from requests->torchvision->pretrainedmodels==0.7.4) (1.26.15)\r\n",
      "Requirement already satisfied: certifi>=2017.4.17 in /opt/conda/lib/python3.10/site-packages (from requests->torchvision->pretrainedmodels==0.7.4) (2023.5.7)\r\n",
      "Requirement already satisfied: mpmath>=0.19 in /opt/conda/lib/python3.10/site-packages (from sympy->torch->pretrainedmodels==0.7.4) (1.3.0)\r\n",
      "Installing collected packages: pretrainedmodels\r\n",
      "Successfully installed pretrainedmodels-0.7.4\r\n",
      "\u001b[33mWARNING: Running pip as the 'root' user can result in broken permissions and conflicting behaviour with the system package manager. It is recommended to use a virtual environment instead: https://pip.pypa.io/warnings/venv\u001b[0m\u001b[33m\r\n",
      "\u001b[0mProcessing /kaggle/input/segmentation-whl/segmentation_models_pytorch-0.3.2-py3-none-any.whl\r\n",
      "Requirement already satisfied: torchvision>=0.5.0 in /opt/conda/lib/python3.10/site-packages (from segmentation-models-pytorch==0.3.2) (0.15.1)\r\n",
      "Requirement already satisfied: pretrainedmodels==0.7.4 in /opt/conda/lib/python3.10/site-packages (from segmentation-models-pytorch==0.3.2) (0.7.4)\r\n",
      "Requirement already satisfied: efficientnet-pytorch==0.7.1 in /opt/conda/lib/python3.10/site-packages (from segmentation-models-pytorch==0.3.2) (0.7.1)\r\n",
      "Requirement already satisfied: timm==0.6.12 in /opt/conda/lib/python3.10/site-packages (from segmentation-models-pytorch==0.3.2) (0.6.12)\r\n",
      "Requirement already satisfied: tqdm in /opt/conda/lib/python3.10/site-packages (from segmentation-models-pytorch==0.3.2) (4.64.1)\r\n",
      "Requirement already satisfied: pillow in /opt/conda/lib/python3.10/site-packages (from segmentation-models-pytorch==0.3.2) (9.5.0)\r\n",
      "Requirement already satisfied: torch in /opt/conda/lib/python3.10/site-packages (from efficientnet-pytorch==0.7.1->segmentation-models-pytorch==0.3.2) (2.0.0)\r\n",
      "Requirement already satisfied: munch in /opt/conda/lib/python3.10/site-packages (from pretrainedmodels==0.7.4->segmentation-models-pytorch==0.3.2) (3.0.0)\r\n",
      "Requirement already satisfied: pyyaml in /opt/conda/lib/python3.10/site-packages (from timm==0.6.12->segmentation-models-pytorch==0.3.2) (5.4.1)\r\n",
      "Requirement already satisfied: huggingface-hub in /opt/conda/lib/python3.10/site-packages (from timm==0.6.12->segmentation-models-pytorch==0.3.2) (0.14.1)\r\n",
      "Requirement already satisfied: numpy in /opt/conda/lib/python3.10/site-packages (from torchvision>=0.5.0->segmentation-models-pytorch==0.3.2) (1.23.5)\r\n",
      "Requirement already satisfied: requests in /opt/conda/lib/python3.10/site-packages (from torchvision>=0.5.0->segmentation-models-pytorch==0.3.2) (2.28.2)\r\n",
      "Requirement already satisfied: filelock in /opt/conda/lib/python3.10/site-packages (from torch->efficientnet-pytorch==0.7.1->segmentation-models-pytorch==0.3.2) (3.12.0)\r\n",
      "Requirement already satisfied: typing-extensions in /opt/conda/lib/python3.10/site-packages (from torch->efficientnet-pytorch==0.7.1->segmentation-models-pytorch==0.3.2) (4.5.0)\r\n",
      "Requirement already satisfied: sympy in /opt/conda/lib/python3.10/site-packages (from torch->efficientnet-pytorch==0.7.1->segmentation-models-pytorch==0.3.2) (1.12)\r\n",
      "Requirement already satisfied: networkx in /opt/conda/lib/python3.10/site-packages (from torch->efficientnet-pytorch==0.7.1->segmentation-models-pytorch==0.3.2) (3.1)\r\n",
      "Requirement already satisfied: jinja2 in /opt/conda/lib/python3.10/site-packages (from torch->efficientnet-pytorch==0.7.1->segmentation-models-pytorch==0.3.2) (3.1.2)\r\n",
      "Requirement already satisfied: fsspec in /opt/conda/lib/python3.10/site-packages (from huggingface-hub->timm==0.6.12->segmentation-models-pytorch==0.3.2) (2023.5.0)\r\n",
      "Requirement already satisfied: packaging>=20.9 in /opt/conda/lib/python3.10/site-packages (from huggingface-hub->timm==0.6.12->segmentation-models-pytorch==0.3.2) (21.3)\r\n",
      "Requirement already satisfied: six in /opt/conda/lib/python3.10/site-packages (from munch->pretrainedmodels==0.7.4->segmentation-models-pytorch==0.3.2) (1.16.0)\r\n",
      "Requirement already satisfied: charset-normalizer<4,>=2 in /opt/conda/lib/python3.10/site-packages (from requests->torchvision>=0.5.0->segmentation-models-pytorch==0.3.2) (2.1.1)\r\n",
      "Requirement already satisfied: idna<4,>=2.5 in /opt/conda/lib/python3.10/site-packages (from requests->torchvision>=0.5.0->segmentation-models-pytorch==0.3.2) (3.4)\r\n",
      "Requirement already satisfied: urllib3<1.27,>=1.21.1 in /opt/conda/lib/python3.10/site-packages (from requests->torchvision>=0.5.0->segmentation-models-pytorch==0.3.2) (1.26.15)\r\n",
      "Requirement already satisfied: certifi>=2017.4.17 in /opt/conda/lib/python3.10/site-packages (from requests->torchvision>=0.5.0->segmentation-models-pytorch==0.3.2) (2023.5.7)\r\n",
      "Requirement already satisfied: pyparsing!=3.0.5,>=2.0.2 in /opt/conda/lib/python3.10/site-packages (from packaging>=20.9->huggingface-hub->timm==0.6.12->segmentation-models-pytorch==0.3.2) (3.0.9)\r\n",
      "Requirement already satisfied: MarkupSafe>=2.0 in /opt/conda/lib/python3.10/site-packages (from jinja2->torch->efficientnet-pytorch==0.7.1->segmentation-models-pytorch==0.3.2) (2.1.2)\r\n",
      "Requirement already satisfied: mpmath>=0.19 in /opt/conda/lib/python3.10/site-packages (from sympy->torch->efficientnet-pytorch==0.7.1->segmentation-models-pytorch==0.3.2) (1.3.0)\r\n",
      "Installing collected packages: segmentation-models-pytorch\r\n",
      "Successfully installed segmentation-models-pytorch-0.3.2\r\n",
      "\u001b[33mWARNING: Running pip as the 'root' user can result in broken permissions and conflicting behaviour with the system package manager. It is recommended to use a virtual environment instead: https://pip.pypa.io/warnings/venv\u001b[0m\u001b[33m\r\n",
      "\u001b[0m"
     ]
    }
   ],
   "source": [
    "!pip install /kaggle/input/segmentation-whl/timm-0.6.12-py3-none-any.whl\n",
    "!pip install /kaggle/input/segmentation-whl/efficientnet_pytorch-0.7.1-py3-none-any.whl\n",
    "!pip install /kaggle/input/segmentation-whl/pretrainedmodels-0.7.4-py3-none-any.whl\n",
    "!pip install /kaggle/input/segmentation-whl/segmentation_models_pytorch-0.3.2-py3-none-any.whl\n",
    "# !pip install -q -U segmentation-models-pytorch albumentations > /dev/null\n",
    "import segmentation_models_pytorch as smp"
   ]
  },
  {
   "cell_type": "code",
   "execution_count": 2,
   "id": "461a0384",
   "metadata": {
    "execution": {
     "iopub.execute_input": "2023-06-16T03:20:38.198970Z",
     "iopub.status.busy": "2023-06-16T03:20:38.198635Z",
     "iopub.status.idle": "2023-06-16T03:20:40.611797Z",
     "shell.execute_reply": "2023-06-16T03:20:40.610782Z"
    },
    "papermill": {
     "duration": 2.424788,
     "end_time": "2023-06-16T03:20:40.614924",
     "exception": false,
     "start_time": "2023-06-16T03:20:38.190136",
     "status": "completed"
    },
    "tags": []
   },
   "outputs": [],
   "source": [
    "import torch\n",
    "import torch.nn as nn\n",
    "import albumentations as A\n",
    "from torch.utils.data import Dataset, DataLoader\n",
    "from torchvision import transforms\n",
    "\n",
    "import numpy as np\n",
    "import pandas as pd\n",
    "import matplotlib.pyplot as plt\n",
    "import os\n",
    "import random\n",
    "import pathlib\n",
    "import cv2\n",
    "\n",
    "from pathlib import Path\n",
    "from albumentations import *\n",
    "\n",
    "from tqdm.notebook import tqdm"
   ]
  },
  {
   "cell_type": "code",
   "execution_count": 3,
   "id": "cea18607",
   "metadata": {
    "execution": {
     "iopub.execute_input": "2023-06-16T03:20:40.631812Z",
     "iopub.status.busy": "2023-06-16T03:20:40.631486Z",
     "iopub.status.idle": "2023-06-16T03:20:40.702137Z",
     "shell.execute_reply": "2023-06-16T03:20:40.701076Z"
    },
    "papermill": {
     "duration": 0.081582,
     "end_time": "2023-06-16T03:20:40.704568",
     "exception": false,
     "start_time": "2023-06-16T03:20:40.622986",
     "status": "completed"
    },
    "tags": []
   },
   "outputs": [],
   "source": [
    "test_data_path = '/kaggle/input/google-research-identify-contrails-reduce-global-warming/test'\n",
    "\n",
    "DEVICE = 'cuda' if torch.cuda.is_available() else 'cpu'"
   ]
  },
  {
   "cell_type": "code",
   "execution_count": 4,
   "id": "2085fa02",
   "metadata": {
    "execution": {
     "iopub.execute_input": "2023-06-16T03:20:40.721484Z",
     "iopub.status.busy": "2023-06-16T03:20:40.721163Z",
     "iopub.status.idle": "2023-06-16T03:20:40.730948Z",
     "shell.execute_reply": "2023-06-16T03:20:40.729959Z"
    },
    "papermill": {
     "duration": 0.020758,
     "end_time": "2023-06-16T03:20:40.732978",
     "exception": false,
     "start_time": "2023-06-16T03:20:40.712220",
     "status": "completed"
    },
    "tags": []
   },
   "outputs": [],
   "source": [
    "def get_training_augmentation():\n",
    "    train_transform = A.Compose([\n",
    "        A.Resize(384, 384, interpolation=cv2.INTER_CUBIC),\n",
    "#         A.HueSaturationValue(p=0.5),\n",
    "#         A.RandomBrightnessContrast(brightness_limit=(-0.3, 0.3), contrast_limit=(-0.3, 0.3), p=0.5),\n",
    "#         A.ChannelShuffle(p=1),\n",
    "        A.OneOf(\n",
    "            [\n",
    "                A.HorizontalFlip(p=1),\n",
    "                A.VerticalFlip(p=1),\n",
    "                A.RandomRotate90(p=1),\n",
    "            ],p=0.5,),\n",
    "        ])\n",
    "    \n",
    "    return train_transform\n",
    "\n",
    "def get_val_augmentation():   \n",
    "    test_transform = [\n",
    "        A.PadIfNeeded(min_height=256, min_width=256, always_apply=True, border_mode=0),\n",
    "        A.Resize(384, 384, interpolation=cv2.INTER_CUBIC),\n",
    "    ]\n",
    "    return A.Compose(test_transform)\n",
    "\n",
    "\n",
    "def to_tensor(x, **kwargs):\n",
    "    return x.transpose(2, 0, 1).astype('float32')\n",
    "\n",
    "def to_tensor(x, **kwargs):\n",
    "    return x.transpose(2, 0, 1)\n",
    "\n",
    "def get_preprocessing(preprocessing_fn=None):\n",
    "    _transform = []\n",
    "    if preprocessing_fn:\n",
    "        _transform.append(A.Lambda(image=preprocessing_fn))\n",
    "    _transform.append(A.Lambda(image=to_tensor, mask=to_tensor))\n",
    "        \n",
    "    return A.Compose(_transform)"
   ]
  },
  {
   "cell_type": "code",
   "execution_count": 5,
   "id": "3e123975",
   "metadata": {
    "execution": {
     "iopub.execute_input": "2023-06-16T03:20:40.754930Z",
     "iopub.status.busy": "2023-06-16T03:20:40.753900Z",
     "iopub.status.idle": "2023-06-16T03:20:40.905968Z",
     "shell.execute_reply": "2023-06-16T03:20:40.904915Z"
    },
    "papermill": {
     "duration": 0.163462,
     "end_time": "2023-06-16T03:20:40.908830",
     "exception": false,
     "start_time": "2023-06-16T03:20:40.745368",
     "status": "completed"
    },
    "tags": []
   },
   "outputs": [],
   "source": [
    "import segmentation_models_pytorch.utils.metrics\n",
    "import segmentation_models_pytorch.utils\n",
    "\n",
    "# ENCODER = 'resnet50'\n",
    "ENCODER = 'efficientnet-b1'\n",
    "ENCODER_WEIGHTS = 'imagenet'\n",
    "CLASSES = ['Contrail']\n",
    "ACTIVATION = 'sigmoid'\n",
    "\n",
    "model = smp.Unet(\n",
    "    encoder_name=ENCODER,\n",
    "    encoder_weights=None,\n",
    "    classes = len(CLASSES),\n",
    "    activation = ACTIVATION,\n",
    ")\n",
    "\n",
    "# preprocessing_fn = smp.encoders.get_preprocessing_fn(ENCODER, ENCODER_WEIGHTS)\n",
    "\n",
    "TRAINING = True\n",
    "Epochs = 30\n",
    "loss = smp.utils.losses.DiceLoss()\n",
    "metrics = [smp.utils.metrics.IoU(threshold=0.5)]\n",
    "optim = torch.optim.Adam([dict(params=model.parameters(), lr=0.0001)])\n",
    "# lr_scheduler = torch.optim.lr_scheduler.CosineAnnealingWarmRestarts(optim, T_0=1, T_mult=2, eta_min=5e-5)\n",
    "lr_scheduler = torch.optim.lr_scheduler.OneCycleLR(optim, max_lr=0.001, epochs=Epochs, steps_per_epoch=1284)"
   ]
  },
  {
   "cell_type": "code",
   "execution_count": 6,
   "id": "3d16818a",
   "metadata": {
    "execution": {
     "iopub.execute_input": "2023-06-16T03:20:40.925523Z",
     "iopub.status.busy": "2023-06-16T03:20:40.925195Z",
     "iopub.status.idle": "2023-06-16T03:20:40.939321Z",
     "shell.execute_reply": "2023-06-16T03:20:40.938375Z"
    },
    "papermill": {
     "duration": 0.025068,
     "end_time": "2023-06-16T03:20:40.941435",
     "exception": false,
     "start_time": "2023-06-16T03:20:40.916367",
     "status": "completed"
    },
    "tags": []
   },
   "outputs": [],
   "source": [
    "import torchvision.transforms as T\n",
    "\n",
    "def false_color(band11, band14, band15):\n",
    "    def normalize(band, bounds):\n",
    "        return (band - bounds[0]) / (bounds[1] - bounds[0])    \n",
    "    _T11_BOUNDS = (243, 303)\n",
    "    _CLOUD_TOP_TDIFF_BOUNDS = (-4, 5)\n",
    "    _TDIFF_BOUNDS = (-4, 2)\n",
    "    r = normalize(band15 - band14, _TDIFF_BOUNDS)\n",
    "    g = normalize(band14 - band11, _CLOUD_TOP_TDIFF_BOUNDS)\n",
    "    b = normalize(band14, _T11_BOUNDS)\n",
    "    return np.clip(np.stack([r, g, b], axis=2), 0, 1)\n",
    "\n",
    "class ContrailTestDataset(Dataset):\n",
    "    def __init__(self, images_dir, ids, augmentation=None, preprocessing=None):\n",
    "        super().__init__()\n",
    "        self.image_path = images_dir\n",
    "        self.ids = ids\n",
    "        \n",
    "        self.augmentation = augmentation\n",
    "        self.preprocessing = preprocessing\n",
    "#         self.normalize_image = T.Normalize((0.485, 0.456, 0.406), (0.229, 0.224, 0.225))\n",
    "        \n",
    "    def __len__(self):\n",
    "        return len(self.ids)\n",
    "        \n",
    "    def __getitem__(self, idx):\n",
    "        image_path  = f\"{self.image_path}/{self.ids[idx]}\"\n",
    "        band11 = np.load(f\"{image_path}/band_11.npy\")[..., 4]\n",
    "        band14 = np.load(f\"{image_path}/band_14.npy\")[..., 4]\n",
    "        band15 = np.load(f\"{image_path}/band_15.npy\")[..., 4]\n",
    "        image = false_color(band11, band14, band15)\n",
    "        \n",
    "        if self.augmentation:\n",
    "            sample = self.augmentation(image=image)\n",
    "            image = sample['image']\n",
    "            \n",
    "        if self.preprocessing:\n",
    "            image = np.transpose(image, (2, 0, 1))\n",
    "            \n",
    "        image = image.astype(np.float32)\n",
    "        image = torch.as_tensor(image)\n",
    "#         image = self.normalize_image(image)\n",
    "        \n",
    "#         image = (image - image.min()) / (image.max() - image.min())\n",
    "        # image /= 255.0\n",
    "            \n",
    "        return image"
   ]
  },
  {
   "cell_type": "code",
   "execution_count": 7,
   "id": "843e0c91",
   "metadata": {
    "execution": {
     "iopub.execute_input": "2023-06-16T03:20:40.958495Z",
     "iopub.status.busy": "2023-06-16T03:20:40.958170Z",
     "iopub.status.idle": "2023-06-16T03:20:44.847457Z",
     "shell.execute_reply": "2023-06-16T03:20:44.846276Z"
    },
    "papermill": {
     "duration": 3.90079,
     "end_time": "2023-06-16T03:20:44.849997",
     "exception": false,
     "start_time": "2023-06-16T03:20:40.949207",
     "status": "completed"
    },
    "tags": []
   },
   "outputs": [],
   "source": [
    "model = torch.load('/kaggle/input/contrail-model-save2/Resize_384_Epoch130.pth', map_location=DEVICE)"
   ]
  },
  {
   "cell_type": "code",
   "execution_count": 8,
   "id": "d773f26a",
   "metadata": {
    "execution": {
     "iopub.execute_input": "2023-06-16T03:20:44.867741Z",
     "iopub.status.busy": "2023-06-16T03:20:44.867069Z",
     "iopub.status.idle": "2023-06-16T03:20:44.881433Z",
     "shell.execute_reply": "2023-06-16T03:20:44.880490Z"
    },
    "papermill": {
     "duration": 0.025723,
     "end_time": "2023-06-16T03:20:44.883933",
     "exception": false,
     "start_time": "2023-06-16T03:20:44.858210",
     "status": "completed"
    },
    "tags": []
   },
   "outputs": [
    {
     "name": "stderr",
     "output_type": "stream",
     "text": [
      "/opt/conda/lib/python3.10/site-packages/torch/utils/data/dataloader.py:561: UserWarning: This DataLoader will create 4 worker processes in total. Our suggested max number of worker in current system is 2, which is smaller than what this DataLoader is going to create. Please be aware that excessive worker creation might get DataLoader running slow or even freeze, lower the worker number to avoid potential slowness/freeze if necessary.\n",
      "  warnings.warn(_create_warning_msg(\n"
     ]
    }
   ],
   "source": [
    "ids = os.listdir(test_data_path)\n",
    "test_ds = ContrailTestDataset(test_data_path, ids, get_val_augmentation(), preprocessing=True)\n",
    "test_dl = DataLoader(test_ds, batch_size=1, num_workers=4, shuffle=False, pin_memory=True)"
   ]
  },
  {
   "cell_type": "code",
   "execution_count": 9,
   "id": "6d17fd88",
   "metadata": {
    "execution": {
     "iopub.execute_input": "2023-06-16T03:20:44.901862Z",
     "iopub.status.busy": "2023-06-16T03:20:44.900811Z",
     "iopub.status.idle": "2023-06-16T03:20:44.913318Z",
     "shell.execute_reply": "2023-06-16T03:20:44.912360Z"
    },
    "papermill": {
     "duration": 0.024269,
     "end_time": "2023-06-16T03:20:44.915548",
     "exception": false,
     "start_time": "2023-06-16T03:20:44.891279",
     "status": "completed"
    },
    "tags": []
   },
   "outputs": [],
   "source": [
    "def rle_encode(x, fg_val=1):\n",
    "    \"\"\"\n",
    "    Args:\n",
    "        x:  numpy array of shape (height, width), 1 - mask, 0 - background\n",
    "    Returns: run length encoding as list\n",
    "    \"\"\"\n",
    "\n",
    "    dots = np.where(\n",
    "        x.T.flatten() == fg_val)[0]  # .T sets Fortran order down-then-right\n",
    "    run_lengths = []\n",
    "    prev = -2\n",
    "    for b in dots:\n",
    "        if b > prev + 1:\n",
    "            run_lengths.extend((b + 1, 0))\n",
    "        run_lengths[-1] += 1\n",
    "        prev = b\n",
    "    return run_lengths\n",
    "\n",
    "\n",
    "def list_to_string(x):\n",
    "    \"\"\"\n",
    "    Converts list to a string representation\n",
    "    Empty list returns '-'\n",
    "    \"\"\"\n",
    "    if x: # non-empty list\n",
    "        s = str(x).replace(\"[\", \"\").replace(\"]\", \"\").replace(\",\", \"\")\n",
    "    else:\n",
    "        s = '-'\n",
    "    return s\n",
    "\n",
    "\n",
    "def rle_decode(mask_rle, shape=(256, 256)):\n",
    "    '''\n",
    "    mask_rle: run-length as string formatted (start length)\n",
    "              empty predictions need to be encoded with '-'\n",
    "    shape: (height, width) of array to return \n",
    "    Returns numpy array, 1 - mask, 0 - background\n",
    "    '''\n",
    "\n",
    "    img = np.zeros(shape[0]*shape[1], dtype=np.uint8)\n",
    "    if mask_rle != '-': \n",
    "        s = mask_rle.split()\n",
    "        starts, lengths = [np.asarray(x, dtype=int) for x in (s[0:][::2], s[1:][::2])]\n",
    "        starts -= 1\n",
    "        ends = starts + lengths\n",
    "        for lo, hi in zip(starts, ends):\n",
    "            img[lo:hi] = 1\n",
    "    return img.reshape(shape, order='F')  # Needed to align to RLE direction"
   ]
  },
  {
   "cell_type": "code",
   "execution_count": 10,
   "id": "d3053243",
   "metadata": {
    "execution": {
     "iopub.execute_input": "2023-06-16T03:20:44.931609Z",
     "iopub.status.busy": "2023-06-16T03:20:44.931318Z",
     "iopub.status.idle": "2023-06-16T03:20:44.936779Z",
     "shell.execute_reply": "2023-06-16T03:20:44.935863Z"
    },
    "papermill": {
     "duration": 0.015781,
     "end_time": "2023-06-16T03:20:44.939165",
     "exception": false,
     "start_time": "2023-06-16T03:20:44.923384",
     "status": "completed"
    },
    "tags": []
   },
   "outputs": [],
   "source": [
    "def submit_to_csv(test_ids, y_pred):\n",
    "    \n",
    "    y_encoded = [list_to_string(rle_encode(y)) for y in y_pred]\n",
    "    \n",
    "    all_test_paths = list(Path('/kaggle/input/google-research-identify-contrails-reduce-global-warming/test').glob(\"*\"))\n",
    "    \n",
    "    sub_df = pd.DataFrame({'record_id': [path.stem for path in all_test_paths], 'encoded_pixels': y_encoded})\n",
    "    \n",
    "    print(\"Submitted\")\n",
    "    return sub_df"
   ]
  },
  {
   "cell_type": "code",
   "execution_count": 11,
   "id": "516e9ef0",
   "metadata": {
    "execution": {
     "iopub.execute_input": "2023-06-16T03:20:44.954712Z",
     "iopub.status.busy": "2023-06-16T03:20:44.954433Z",
     "iopub.status.idle": "2023-06-16T03:20:50.586507Z",
     "shell.execute_reply": "2023-06-16T03:20:50.584741Z"
    },
    "papermill": {
     "duration": 5.642558,
     "end_time": "2023-06-16T03:20:50.588999",
     "exception": false,
     "start_time": "2023-06-16T03:20:44.946441",
     "status": "completed"
    },
    "tags": []
   },
   "outputs": [
    {
     "data": {
      "application/vnd.jupyter.widget-view+json": {
       "model_id": "cbc8963f87bf4d7abadbad3783e4f2e2",
       "version_major": 2,
       "version_minor": 0
      },
      "text/plain": [
       "  0%|          | 0/2 [00:00<?, ?it/s]"
      ]
     },
     "metadata": {},
     "output_type": "display_data"
    },
    {
     "name": "stdout",
     "output_type": "stream",
     "text": [
      "Test idx: 0\n",
      "Test idx: 1\n"
     ]
    }
   ],
   "source": [
    "out_rle = []\n",
    "test_ids = []\n",
    "preds=[]\n",
    "model.eval()\n",
    "\n",
    "\n",
    "with torch.inference_mode():\n",
    "    for idx, image in enumerate(tqdm(test_dl)):\n",
    "        print(\"Test idx:\", idx)\n",
    "        image = image.to(DEVICE, dtype=torch.float)\n",
    "        \n",
    "        pred = model(image)\n",
    "        \n",
    "        pred = torch.nn.functional.interpolate(pred, size=256, mode='bilinear')\n",
    "#         print(pred.shape)\n",
    "        \n",
    "        pred = (nn.Sigmoid()(pred)>0.5).double()\n",
    "    \n",
    "        out_reversed = np.array([o.cpu().permute(1,2,0).numpy() for o in pred])\n",
    "        for e in out_reversed:\n",
    "            out_rle.append(e)"
   ]
  },
  {
   "cell_type": "code",
   "execution_count": 12,
   "id": "19871e70",
   "metadata": {
    "execution": {
     "iopub.execute_input": "2023-06-16T03:20:50.608346Z",
     "iopub.status.busy": "2023-06-16T03:20:50.607921Z",
     "iopub.status.idle": "2023-06-16T03:20:50.614610Z",
     "shell.execute_reply": "2023-06-16T03:20:50.613567Z"
    },
    "papermill": {
     "duration": 0.01971,
     "end_time": "2023-06-16T03:20:50.617198",
     "exception": false,
     "start_time": "2023-06-16T03:20:50.597488",
     "status": "completed"
    },
    "tags": []
   },
   "outputs": [],
   "source": [
    "test_ids = list(os.listdir(\"/kaggle/input/google-research-identify-contrails-reduce-global-warming/test\"))"
   ]
  },
  {
   "cell_type": "code",
   "execution_count": 13,
   "id": "611f7e48",
   "metadata": {
    "execution": {
     "iopub.execute_input": "2023-06-16T03:20:50.635656Z",
     "iopub.status.busy": "2023-06-16T03:20:50.635290Z",
     "iopub.status.idle": "2023-06-16T03:20:50.647890Z",
     "shell.execute_reply": "2023-06-16T03:20:50.646611Z"
    },
    "papermill": {
     "duration": 0.02505,
     "end_time": "2023-06-16T03:20:50.650437",
     "exception": false,
     "start_time": "2023-06-16T03:20:50.625387",
     "status": "completed"
    },
    "tags": []
   },
   "outputs": [
    {
     "name": "stdout",
     "output_type": "stream",
     "text": [
      "Submitted\n"
     ]
    }
   ],
   "source": [
    "sub_df= submit_to_csv(test_ids, out_rle)"
   ]
  },
  {
   "cell_type": "code",
   "execution_count": 14,
   "id": "c0cfca46",
   "metadata": {
    "execution": {
     "iopub.execute_input": "2023-06-16T03:20:50.669169Z",
     "iopub.status.busy": "2023-06-16T03:20:50.667986Z",
     "iopub.status.idle": "2023-06-16T03:20:50.687736Z",
     "shell.execute_reply": "2023-06-16T03:20:50.686480Z"
    },
    "papermill": {
     "duration": 0.032237,
     "end_time": "2023-06-16T03:20:50.690799",
     "exception": false,
     "start_time": "2023-06-16T03:20:50.658562",
     "status": "completed"
    },
    "tags": []
   },
   "outputs": [
    {
     "data": {
      "text/html": [
       "<div>\n",
       "<style scoped>\n",
       "    .dataframe tbody tr th:only-of-type {\n",
       "        vertical-align: middle;\n",
       "    }\n",
       "\n",
       "    .dataframe tbody tr th {\n",
       "        vertical-align: top;\n",
       "    }\n",
       "\n",
       "    .dataframe thead th {\n",
       "        text-align: right;\n",
       "    }\n",
       "</style>\n",
       "<table border=\"1\" class=\"dataframe\">\n",
       "  <thead>\n",
       "    <tr style=\"text-align: right;\">\n",
       "      <th></th>\n",
       "      <th>record_id</th>\n",
       "      <th>encoded_pixels</th>\n",
       "    </tr>\n",
       "  </thead>\n",
       "  <tbody>\n",
       "    <tr>\n",
       "      <th>0</th>\n",
       "      <td>1002653297254493116</td>\n",
       "      <td>-</td>\n",
       "    </tr>\n",
       "    <tr>\n",
       "      <th>1</th>\n",
       "      <td>1000834164244036115</td>\n",
       "      <td>40966 2 41223 2 41480 3 41737 4 41995 3 42252 ...</td>\n",
       "    </tr>\n",
       "  </tbody>\n",
       "</table>\n",
       "</div>"
      ],
      "text/plain": [
       "             record_id                                     encoded_pixels\n",
       "0  1002653297254493116                                                  -\n",
       "1  1000834164244036115  40966 2 41223 2 41480 3 41737 4 41995 3 42252 ..."
      ]
     },
     "execution_count": 14,
     "metadata": {},
     "output_type": "execute_result"
    }
   ],
   "source": [
    "sub_df"
   ]
  },
  {
   "cell_type": "code",
   "execution_count": 15,
   "id": "c7b47aa6",
   "metadata": {
    "execution": {
     "iopub.execute_input": "2023-06-16T03:20:50.709307Z",
     "iopub.status.busy": "2023-06-16T03:20:50.708924Z",
     "iopub.status.idle": "2023-06-16T03:20:50.719395Z",
     "shell.execute_reply": "2023-06-16T03:20:50.718425Z"
    },
    "papermill": {
     "duration": 0.022316,
     "end_time": "2023-06-16T03:20:50.721581",
     "exception": false,
     "start_time": "2023-06-16T03:20:50.699265",
     "status": "completed"
    },
    "tags": []
   },
   "outputs": [],
   "source": [
    "sub_df.to_csv(\"submission.csv\",index=False)"
   ]
  }
 ],
 "metadata": {
  "kernelspec": {
   "display_name": "Python 3",
   "language": "python",
   "name": "python3"
  },
  "language_info": {
   "codemirror_mode": {
    "name": "ipython",
    "version": 3
   },
   "file_extension": ".py",
   "mimetype": "text/x-python",
   "name": "python",
   "nbconvert_exporter": "python",
   "pygments_lexer": "ipython3",
   "version": "3.10.10"
  },
  "papermill": {
   "default_parameters": {},
   "duration": 164.28363,
   "end_time": "2023-06-16T03:20:54.135920",
   "environment_variables": {},
   "exception": null,
   "input_path": "__notebook__.ipynb",
   "output_path": "__notebook__.ipynb",
   "parameters": {},
   "start_time": "2023-06-16T03:18:09.852290",
   "version": "2.4.0"
  },
  "widgets": {
   "application/vnd.jupyter.widget-state+json": {
    "state": {
     "16845a79154b4b3f96207531bef915b6": {
      "model_module": "@jupyter-widgets/controls",
      "model_module_version": "1.5.0",
      "model_name": "ProgressStyleModel",
      "state": {
       "_model_module": "@jupyter-widgets/controls",
       "_model_module_version": "1.5.0",
       "_model_name": "ProgressStyleModel",
       "_view_count": null,
       "_view_module": "@jupyter-widgets/base",
       "_view_module_version": "1.2.0",
       "_view_name": "StyleView",
       "bar_color": null,
       "description_width": ""
      }
     },
     "5033e61ac52c4646a8dacf3c9d76c49b": {
      "model_module": "@jupyter-widgets/base",
      "model_module_version": "1.2.0",
      "model_name": "LayoutModel",
      "state": {
       "_model_module": "@jupyter-widgets/base",
       "_model_module_version": "1.2.0",
       "_model_name": "LayoutModel",
       "_view_count": null,
       "_view_module": "@jupyter-widgets/base",
       "_view_module_version": "1.2.0",
       "_view_name": "LayoutView",
       "align_content": null,
       "align_items": null,
       "align_self": null,
       "border": null,
       "bottom": null,
       "display": null,
       "flex": null,
       "flex_flow": null,
       "grid_area": null,
       "grid_auto_columns": null,
       "grid_auto_flow": null,
       "grid_auto_rows": null,
       "grid_column": null,
       "grid_gap": null,
       "grid_row": null,
       "grid_template_areas": null,
       "grid_template_columns": null,
       "grid_template_rows": null,
       "height": null,
       "justify_content": null,
       "justify_items": null,
       "left": null,
       "margin": null,
       "max_height": null,
       "max_width": null,
       "min_height": null,
       "min_width": null,
       "object_fit": null,
       "object_position": null,
       "order": null,
       "overflow": null,
       "overflow_x": null,
       "overflow_y": null,
       "padding": null,
       "right": null,
       "top": null,
       "visibility": null,
       "width": null
      }
     },
     "6b47d0751c6f42ff9ae7f5f1aba3b1a2": {
      "model_module": "@jupyter-widgets/base",
      "model_module_version": "1.2.0",
      "model_name": "LayoutModel",
      "state": {
       "_model_module": "@jupyter-widgets/base",
       "_model_module_version": "1.2.0",
       "_model_name": "LayoutModel",
       "_view_count": null,
       "_view_module": "@jupyter-widgets/base",
       "_view_module_version": "1.2.0",
       "_view_name": "LayoutView",
       "align_content": null,
       "align_items": null,
       "align_self": null,
       "border": null,
       "bottom": null,
       "display": null,
       "flex": null,
       "flex_flow": null,
       "grid_area": null,
       "grid_auto_columns": null,
       "grid_auto_flow": null,
       "grid_auto_rows": null,
       "grid_column": null,
       "grid_gap": null,
       "grid_row": null,
       "grid_template_areas": null,
       "grid_template_columns": null,
       "grid_template_rows": null,
       "height": null,
       "justify_content": null,
       "justify_items": null,
       "left": null,
       "margin": null,
       "max_height": null,
       "max_width": null,
       "min_height": null,
       "min_width": null,
       "object_fit": null,
       "object_position": null,
       "order": null,
       "overflow": null,
       "overflow_x": null,
       "overflow_y": null,
       "padding": null,
       "right": null,
       "top": null,
       "visibility": null,
       "width": null
      }
     },
     "7e6060ff78464486b3c480df97590dc1": {
      "model_module": "@jupyter-widgets/base",
      "model_module_version": "1.2.0",
      "model_name": "LayoutModel",
      "state": {
       "_model_module": "@jupyter-widgets/base",
       "_model_module_version": "1.2.0",
       "_model_name": "LayoutModel",
       "_view_count": null,
       "_view_module": "@jupyter-widgets/base",
       "_view_module_version": "1.2.0",
       "_view_name": "LayoutView",
       "align_content": null,
       "align_items": null,
       "align_self": null,
       "border": null,
       "bottom": null,
       "display": null,
       "flex": null,
       "flex_flow": null,
       "grid_area": null,
       "grid_auto_columns": null,
       "grid_auto_flow": null,
       "grid_auto_rows": null,
       "grid_column": null,
       "grid_gap": null,
       "grid_row": null,
       "grid_template_areas": null,
       "grid_template_columns": null,
       "grid_template_rows": null,
       "height": null,
       "justify_content": null,
       "justify_items": null,
       "left": null,
       "margin": null,
       "max_height": null,
       "max_width": null,
       "min_height": null,
       "min_width": null,
       "object_fit": null,
       "object_position": null,
       "order": null,
       "overflow": null,
       "overflow_x": null,
       "overflow_y": null,
       "padding": null,
       "right": null,
       "top": null,
       "visibility": null,
       "width": null
      }
     },
     "9036d9fba27b49f7bebbdda62ec97f66": {
      "model_module": "@jupyter-widgets/controls",
      "model_module_version": "1.5.0",
      "model_name": "HTMLModel",
      "state": {
       "_dom_classes": [],
       "_model_module": "@jupyter-widgets/controls",
       "_model_module_version": "1.5.0",
       "_model_name": "HTMLModel",
       "_view_count": null,
       "_view_module": "@jupyter-widgets/controls",
       "_view_module_version": "1.5.0",
       "_view_name": "HTMLView",
       "description": "",
       "description_tooltip": null,
       "layout": "IPY_MODEL_fba8ffd6f64d44e085585dcf562f409c",
       "placeholder": "​",
       "style": "IPY_MODEL_dd4222abde1f4209a0c22bc473ffd4b7",
       "value": "100%"
      }
     },
     "9eeee6acfbc64656a1612920cde015c5": {
      "model_module": "@jupyter-widgets/controls",
      "model_module_version": "1.5.0",
      "model_name": "HTMLModel",
      "state": {
       "_dom_classes": [],
       "_model_module": "@jupyter-widgets/controls",
       "_model_module_version": "1.5.0",
       "_model_name": "HTMLModel",
       "_view_count": null,
       "_view_module": "@jupyter-widgets/controls",
       "_view_module_version": "1.5.0",
       "_view_name": "HTMLView",
       "description": "",
       "description_tooltip": null,
       "layout": "IPY_MODEL_6b47d0751c6f42ff9ae7f5f1aba3b1a2",
       "placeholder": "​",
       "style": "IPY_MODEL_a875e17ab3a049fd8d6d5706e2ab683f",
       "value": " 2/2 [00:05&lt;00:00,  5.49s/it]"
      }
     },
     "a875e17ab3a049fd8d6d5706e2ab683f": {
      "model_module": "@jupyter-widgets/controls",
      "model_module_version": "1.5.0",
      "model_name": "DescriptionStyleModel",
      "state": {
       "_model_module": "@jupyter-widgets/controls",
       "_model_module_version": "1.5.0",
       "_model_name": "DescriptionStyleModel",
       "_view_count": null,
       "_view_module": "@jupyter-widgets/base",
       "_view_module_version": "1.2.0",
       "_view_name": "StyleView",
       "description_width": ""
      }
     },
     "be75f7197f9f470db4a5542a35b8c8f9": {
      "model_module": "@jupyter-widgets/controls",
      "model_module_version": "1.5.0",
      "model_name": "FloatProgressModel",
      "state": {
       "_dom_classes": [],
       "_model_module": "@jupyter-widgets/controls",
       "_model_module_version": "1.5.0",
       "_model_name": "FloatProgressModel",
       "_view_count": null,
       "_view_module": "@jupyter-widgets/controls",
       "_view_module_version": "1.5.0",
       "_view_name": "ProgressView",
       "bar_style": "success",
       "description": "",
       "description_tooltip": null,
       "layout": "IPY_MODEL_5033e61ac52c4646a8dacf3c9d76c49b",
       "max": 2.0,
       "min": 0.0,
       "orientation": "horizontal",
       "style": "IPY_MODEL_16845a79154b4b3f96207531bef915b6",
       "value": 2.0
      }
     },
     "cbc8963f87bf4d7abadbad3783e4f2e2": {
      "model_module": "@jupyter-widgets/controls",
      "model_module_version": "1.5.0",
      "model_name": "HBoxModel",
      "state": {
       "_dom_classes": [],
       "_model_module": "@jupyter-widgets/controls",
       "_model_module_version": "1.5.0",
       "_model_name": "HBoxModel",
       "_view_count": null,
       "_view_module": "@jupyter-widgets/controls",
       "_view_module_version": "1.5.0",
       "_view_name": "HBoxView",
       "box_style": "",
       "children": [
        "IPY_MODEL_9036d9fba27b49f7bebbdda62ec97f66",
        "IPY_MODEL_be75f7197f9f470db4a5542a35b8c8f9",
        "IPY_MODEL_9eeee6acfbc64656a1612920cde015c5"
       ],
       "layout": "IPY_MODEL_7e6060ff78464486b3c480df97590dc1"
      }
     },
     "dd4222abde1f4209a0c22bc473ffd4b7": {
      "model_module": "@jupyter-widgets/controls",
      "model_module_version": "1.5.0",
      "model_name": "DescriptionStyleModel",
      "state": {
       "_model_module": "@jupyter-widgets/controls",
       "_model_module_version": "1.5.0",
       "_model_name": "DescriptionStyleModel",
       "_view_count": null,
       "_view_module": "@jupyter-widgets/base",
       "_view_module_version": "1.2.0",
       "_view_name": "StyleView",
       "description_width": ""
      }
     },
     "fba8ffd6f64d44e085585dcf562f409c": {
      "model_module": "@jupyter-widgets/base",
      "model_module_version": "1.2.0",
      "model_name": "LayoutModel",
      "state": {
       "_model_module": "@jupyter-widgets/base",
       "_model_module_version": "1.2.0",
       "_model_name": "LayoutModel",
       "_view_count": null,
       "_view_module": "@jupyter-widgets/base",
       "_view_module_version": "1.2.0",
       "_view_name": "LayoutView",
       "align_content": null,
       "align_items": null,
       "align_self": null,
       "border": null,
       "bottom": null,
       "display": null,
       "flex": null,
       "flex_flow": null,
       "grid_area": null,
       "grid_auto_columns": null,
       "grid_auto_flow": null,
       "grid_auto_rows": null,
       "grid_column": null,
       "grid_gap": null,
       "grid_row": null,
       "grid_template_areas": null,
       "grid_template_columns": null,
       "grid_template_rows": null,
       "height": null,
       "justify_content": null,
       "justify_items": null,
       "left": null,
       "margin": null,
       "max_height": null,
       "max_width": null,
       "min_height": null,
       "min_width": null,
       "object_fit": null,
       "object_position": null,
       "order": null,
       "overflow": null,
       "overflow_x": null,
       "overflow_y": null,
       "padding": null,
       "right": null,
       "top": null,
       "visibility": null,
       "width": null
      }
     }
    },
    "version_major": 2,
    "version_minor": 0
   }
  }
 },
 "nbformat": 4,
 "nbformat_minor": 5
}
